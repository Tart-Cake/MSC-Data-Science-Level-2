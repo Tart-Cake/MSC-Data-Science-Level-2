{
 "cells": [
  {
   "cell_type": "code",
   "execution_count": 1,
   "id": "984c42e7",
   "metadata": {
    "ExecuteTime": {
     "end_time": "2024-03-09T17:27:35.705126Z",
     "start_time": "2024-03-09T17:27:34.041327Z"
    }
   },
   "outputs": [],
   "source": [
    "import numpy as np\n",
    "import pandas as pd\n",
    "import matplotlib.pyplot as plt\n",
    "\n",
    "from sklearn.linear_model import LinearRegression\n",
    "from sklearn.model_selection import train_test_split"
   ]
  },
  {
   "cell_type": "code",
   "execution_count": 2,
   "id": "636d6766",
   "metadata": {
    "ExecuteTime": {
     "end_time": "2024-03-09T17:28:36.571359Z",
     "start_time": "2024-03-09T17:28:36.514225Z"
    }
   },
   "outputs": [
    {
     "data": {
      "text/html": [
       "<div>\n",
       "<style scoped>\n",
       "    .dataframe tbody tr th:only-of-type {\n",
       "        vertical-align: middle;\n",
       "    }\n",
       "\n",
       "    .dataframe tbody tr th {\n",
       "        vertical-align: top;\n",
       "    }\n",
       "\n",
       "    .dataframe thead th {\n",
       "        text-align: right;\n",
       "    }\n",
       "</style>\n",
       "<table border=\"1\" class=\"dataframe\">\n",
       "  <thead>\n",
       "    <tr style=\"text-align: right;\">\n",
       "      <th></th>\n",
       "      <th>TV</th>\n",
       "      <th>Sales</th>\n",
       "    </tr>\n",
       "  </thead>\n",
       "  <tbody>\n",
       "    <tr>\n",
       "      <th>0</th>\n",
       "      <td>230.1</td>\n",
       "      <td>22.1</td>\n",
       "    </tr>\n",
       "    <tr>\n",
       "      <th>1</th>\n",
       "      <td>44.5</td>\n",
       "      <td>10.4</td>\n",
       "    </tr>\n",
       "    <tr>\n",
       "      <th>2</th>\n",
       "      <td>17.2</td>\n",
       "      <td>9.3</td>\n",
       "    </tr>\n",
       "    <tr>\n",
       "      <th>3</th>\n",
       "      <td>151.5</td>\n",
       "      <td>18.5</td>\n",
       "    </tr>\n",
       "    <tr>\n",
       "      <th>4</th>\n",
       "      <td>180.8</td>\n",
       "      <td>12.9</td>\n",
       "    </tr>\n",
       "    <tr>\n",
       "      <th>...</th>\n",
       "      <td>...</td>\n",
       "      <td>...</td>\n",
       "    </tr>\n",
       "    <tr>\n",
       "      <th>195</th>\n",
       "      <td>38.2</td>\n",
       "      <td>7.6</td>\n",
       "    </tr>\n",
       "    <tr>\n",
       "      <th>196</th>\n",
       "      <td>94.2</td>\n",
       "      <td>9.7</td>\n",
       "    </tr>\n",
       "    <tr>\n",
       "      <th>197</th>\n",
       "      <td>177.0</td>\n",
       "      <td>12.8</td>\n",
       "    </tr>\n",
       "    <tr>\n",
       "      <th>198</th>\n",
       "      <td>283.6</td>\n",
       "      <td>25.5</td>\n",
       "    </tr>\n",
       "    <tr>\n",
       "      <th>199</th>\n",
       "      <td>232.1</td>\n",
       "      <td>13.4</td>\n",
       "    </tr>\n",
       "  </tbody>\n",
       "</table>\n",
       "<p>200 rows × 2 columns</p>\n",
       "</div>"
      ],
      "text/plain": [
       "        TV  Sales\n",
       "0    230.1   22.1\n",
       "1     44.5   10.4\n",
       "2     17.2    9.3\n",
       "3    151.5   18.5\n",
       "4    180.8   12.9\n",
       "..     ...    ...\n",
       "195   38.2    7.6\n",
       "196   94.2    9.7\n",
       "197  177.0   12.8\n",
       "198  283.6   25.5\n",
       "199  232.1   13.4\n",
       "\n",
       "[200 rows x 2 columns]"
      ]
     },
     "execution_count": 2,
     "metadata": {},
     "output_type": "execute_result"
    }
   ],
   "source": [
    "df=pd.read_csv(r\"C:\\Users\\silve\\Desktop\\tvmarketing.csv\")\n",
    "df"
   ]
  },
  {
   "cell_type": "markdown",
   "id": "4f644e18",
   "metadata": {},
   "source": [
    " ## **Correlation**"
   ]
  },
  {
   "cell_type": "code",
   "execution_count": 5,
   "id": "de8966e8",
   "metadata": {
    "ExecuteTime": {
     "end_time": "2024-03-09T17:32:27.793259Z",
     "start_time": "2024-03-09T17:32:27.662049Z"
    }
   },
   "outputs": [
    {
     "data": {
      "text/plain": [
       "0.7822244248616064"
      ]
     },
     "execution_count": 5,
     "metadata": {},
     "output_type": "execute_result"
    }
   ],
   "source": [
    "df.TV.corr(df.Sales)"
   ]
  },
  {
   "cell_type": "markdown",
   "id": "fc010ed5",
   "metadata": {},
   "source": [
    "## Split data to feature and target\n"
   ]
  },
  {
   "cell_type": "code",
   "execution_count": 6,
   "id": "3609fc74",
   "metadata": {
    "ExecuteTime": {
     "end_time": "2024-03-09T17:33:08.738516Z",
     "start_time": "2024-03-09T17:33:08.723500Z"
    }
   },
   "outputs": [
    {
     "data": {
      "text/html": [
       "<div>\n",
       "<style scoped>\n",
       "    .dataframe tbody tr th:only-of-type {\n",
       "        vertical-align: middle;\n",
       "    }\n",
       "\n",
       "    .dataframe tbody tr th {\n",
       "        vertical-align: top;\n",
       "    }\n",
       "\n",
       "    .dataframe thead th {\n",
       "        text-align: right;\n",
       "    }\n",
       "</style>\n",
       "<table border=\"1\" class=\"dataframe\">\n",
       "  <thead>\n",
       "    <tr style=\"text-align: right;\">\n",
       "      <th></th>\n",
       "      <th>TV</th>\n",
       "    </tr>\n",
       "  </thead>\n",
       "  <tbody>\n",
       "    <tr>\n",
       "      <th>0</th>\n",
       "      <td>230.1</td>\n",
       "    </tr>\n",
       "    <tr>\n",
       "      <th>1</th>\n",
       "      <td>44.5</td>\n",
       "    </tr>\n",
       "    <tr>\n",
       "      <th>2</th>\n",
       "      <td>17.2</td>\n",
       "    </tr>\n",
       "    <tr>\n",
       "      <th>3</th>\n",
       "      <td>151.5</td>\n",
       "    </tr>\n",
       "    <tr>\n",
       "      <th>4</th>\n",
       "      <td>180.8</td>\n",
       "    </tr>\n",
       "    <tr>\n",
       "      <th>...</th>\n",
       "      <td>...</td>\n",
       "    </tr>\n",
       "    <tr>\n",
       "      <th>195</th>\n",
       "      <td>38.2</td>\n",
       "    </tr>\n",
       "    <tr>\n",
       "      <th>196</th>\n",
       "      <td>94.2</td>\n",
       "    </tr>\n",
       "    <tr>\n",
       "      <th>197</th>\n",
       "      <td>177.0</td>\n",
       "    </tr>\n",
       "    <tr>\n",
       "      <th>198</th>\n",
       "      <td>283.6</td>\n",
       "    </tr>\n",
       "    <tr>\n",
       "      <th>199</th>\n",
       "      <td>232.1</td>\n",
       "    </tr>\n",
       "  </tbody>\n",
       "</table>\n",
       "<p>200 rows × 1 columns</p>\n",
       "</div>"
      ],
      "text/plain": [
       "        TV\n",
       "0    230.1\n",
       "1     44.5\n",
       "2     17.2\n",
       "3    151.5\n",
       "4    180.8\n",
       "..     ...\n",
       "195   38.2\n",
       "196   94.2\n",
       "197  177.0\n",
       "198  283.6\n",
       "199  232.1\n",
       "\n",
       "[200 rows x 1 columns]"
      ]
     },
     "execution_count": 6,
     "metadata": {},
     "output_type": "execute_result"
    }
   ],
   "source": [
    "feature=df[['TV']]\n",
    "feature"
   ]
  },
  {
   "cell_type": "code",
   "execution_count": 9,
   "id": "80cadc07",
   "metadata": {
    "ExecuteTime": {
     "end_time": "2024-03-09T17:33:45.784362Z",
     "start_time": "2024-03-09T17:33:45.771837Z"
    }
   },
   "outputs": [
    {
     "data": {
      "text/html": [
       "<div>\n",
       "<style scoped>\n",
       "    .dataframe tbody tr th:only-of-type {\n",
       "        vertical-align: middle;\n",
       "    }\n",
       "\n",
       "    .dataframe tbody tr th {\n",
       "        vertical-align: top;\n",
       "    }\n",
       "\n",
       "    .dataframe thead th {\n",
       "        text-align: right;\n",
       "    }\n",
       "</style>\n",
       "<table border=\"1\" class=\"dataframe\">\n",
       "  <thead>\n",
       "    <tr style=\"text-align: right;\">\n",
       "      <th></th>\n",
       "      <th>Sales</th>\n",
       "    </tr>\n",
       "  </thead>\n",
       "  <tbody>\n",
       "    <tr>\n",
       "      <th>0</th>\n",
       "      <td>22.1</td>\n",
       "    </tr>\n",
       "    <tr>\n",
       "      <th>1</th>\n",
       "      <td>10.4</td>\n",
       "    </tr>\n",
       "    <tr>\n",
       "      <th>2</th>\n",
       "      <td>9.3</td>\n",
       "    </tr>\n",
       "    <tr>\n",
       "      <th>3</th>\n",
       "      <td>18.5</td>\n",
       "    </tr>\n",
       "    <tr>\n",
       "      <th>4</th>\n",
       "      <td>12.9</td>\n",
       "    </tr>\n",
       "    <tr>\n",
       "      <th>...</th>\n",
       "      <td>...</td>\n",
       "    </tr>\n",
       "    <tr>\n",
       "      <th>195</th>\n",
       "      <td>7.6</td>\n",
       "    </tr>\n",
       "    <tr>\n",
       "      <th>196</th>\n",
       "      <td>9.7</td>\n",
       "    </tr>\n",
       "    <tr>\n",
       "      <th>197</th>\n",
       "      <td>12.8</td>\n",
       "    </tr>\n",
       "    <tr>\n",
       "      <th>198</th>\n",
       "      <td>25.5</td>\n",
       "    </tr>\n",
       "    <tr>\n",
       "      <th>199</th>\n",
       "      <td>13.4</td>\n",
       "    </tr>\n",
       "  </tbody>\n",
       "</table>\n",
       "<p>200 rows × 1 columns</p>\n",
       "</div>"
      ],
      "text/plain": [
       "     Sales\n",
       "0     22.1\n",
       "1     10.4\n",
       "2      9.3\n",
       "3     18.5\n",
       "4     12.9\n",
       "..     ...\n",
       "195    7.6\n",
       "196    9.7\n",
       "197   12.8\n",
       "198   25.5\n",
       "199   13.4\n",
       "\n",
       "[200 rows x 1 columns]"
      ]
     },
     "execution_count": 9,
     "metadata": {},
     "output_type": "execute_result"
    }
   ],
   "source": [
    "target=df[['Sales']]\n",
    "target"
   ]
  },
  {
   "cell_type": "markdown",
   "id": "79fc0a5b",
   "metadata": {},
   "source": [
    "\n",
    "## Lets see the relation between feature and target\n"
   ]
  },
  {
   "cell_type": "code",
   "execution_count": 10,
   "id": "0a9e7592",
   "metadata": {
    "ExecuteTime": {
     "end_time": "2024-03-09T17:38:24.646255Z",
     "start_time": "2024-03-09T17:38:24.342575Z"
    }
   },
   "outputs": [
    {
     "data": {
      "image/png": "[encoded data removed]",
      "text/plain": [
       "<Figure size 640x480 with 1 Axes>"
      ]
     },
     "metadata": {},
     "output_type": "display_data"
    }
   ],
   "source": [
    "plt.xlabel(\"TV\")\n",
    "plt.ylabel(\"Sales\")\n",
    "plt.scatter(feature,target)\n",
    "plt.show()"
   ]
  },
  {
   "cell_type": "markdown",
   "id": "16a0c10f",
   "metadata": {},
   "source": [
    "\n",
    "## Machine Learning using linear regression\n"
   ]
  },
  {
   "cell_type": "code",
   "execution_count": 11,
   "id": "80ea1d45",
   "metadata": {
    "ExecuteTime": {
     "end_time": "2024-03-09T17:40:05.807868Z",
     "start_time": "2024-03-09T17:40:05.801845Z"
    }
   },
   "outputs": [],
   "source": [
    "# This code split the dataset X and Y to train and test, train = 80% of data and test is 20%.\n",
    "X_train, X_test, y_train, y_test = train_test_split(feature,target,test_size=0.20,random_state=2) "
   ]
  },
  {
   "cell_type": "code",
   "execution_count": 12,
   "id": "15f6e0e3",
   "metadata": {
    "ExecuteTime": {
     "end_time": "2024-03-09T17:40:15.935665Z",
     "start_time": "2024-03-09T17:40:15.926574Z"
    }
   },
   "outputs": [
    {
     "data": {
      "text/html": [
       "<div>\n",
       "<style scoped>\n",
       "    .dataframe tbody tr th:only-of-type {\n",
       "        vertical-align: middle;\n",
       "    }\n",
       "\n",
       "    .dataframe tbody tr th {\n",
       "        vertical-align: top;\n",
       "    }\n",
       "\n",
       "    .dataframe thead th {\n",
       "        text-align: right;\n",
       "    }\n",
       "</style>\n",
       "<table border=\"1\" class=\"dataframe\">\n",
       "  <thead>\n",
       "    <tr style=\"text-align: right;\">\n",
       "      <th></th>\n",
       "      <th>TV</th>\n",
       "    </tr>\n",
       "  </thead>\n",
       "  <tbody>\n",
       "    <tr>\n",
       "      <th>137</th>\n",
       "      <td>273.7</td>\n",
       "    </tr>\n",
       "    <tr>\n",
       "      <th>163</th>\n",
       "      <td>163.5</td>\n",
       "    </tr>\n",
       "    <tr>\n",
       "      <th>111</th>\n",
       "      <td>241.7</td>\n",
       "    </tr>\n",
       "    <tr>\n",
       "      <th>123</th>\n",
       "      <td>123.1</td>\n",
       "    </tr>\n",
       "    <tr>\n",
       "      <th>109</th>\n",
       "      <td>255.4</td>\n",
       "    </tr>\n",
       "    <tr>\n",
       "      <th>...</th>\n",
       "      <td>...</td>\n",
       "    </tr>\n",
       "    <tr>\n",
       "      <th>43</th>\n",
       "      <td>206.9</td>\n",
       "    </tr>\n",
       "    <tr>\n",
       "      <th>22</th>\n",
       "      <td>13.2</td>\n",
       "    </tr>\n",
       "    <tr>\n",
       "      <th>72</th>\n",
       "      <td>26.8</td>\n",
       "    </tr>\n",
       "    <tr>\n",
       "      <th>15</th>\n",
       "      <td>195.4</td>\n",
       "    </tr>\n",
       "    <tr>\n",
       "      <th>168</th>\n",
       "      <td>215.4</td>\n",
       "    </tr>\n",
       "  </tbody>\n",
       "</table>\n",
       "<p>160 rows × 1 columns</p>\n",
       "</div>"
      ],
      "text/plain": [
       "        TV\n",
       "137  273.7\n",
       "163  163.5\n",
       "111  241.7\n",
       "123  123.1\n",
       "109  255.4\n",
       "..     ...\n",
       "43   206.9\n",
       "22    13.2\n",
       "72    26.8\n",
       "15   195.4\n",
       "168  215.4\n",
       "\n",
       "[160 rows x 1 columns]"
      ]
     },
     "execution_count": 12,
     "metadata": {},
     "output_type": "execute_result"
    }
   ],
   "source": [
    "X_train"
   ]
  },
  {
   "cell_type": "code",
   "execution_count": 13,
   "id": "b8ecf6c9",
   "metadata": {
    "ExecuteTime": {
     "end_time": "2024-03-09T17:40:24.311617Z",
     "start_time": "2024-03-09T17:40:24.300291Z"
    }
   },
   "outputs": [
    {
     "data": {
      "text/html": [
       "<div>\n",
       "<style scoped>\n",
       "    .dataframe tbody tr th:only-of-type {\n",
       "        vertical-align: middle;\n",
       "    }\n",
       "\n",
       "    .dataframe tbody tr th {\n",
       "        vertical-align: top;\n",
       "    }\n",
       "\n",
       "    .dataframe thead th {\n",
       "        text-align: right;\n",
       "    }\n",
       "</style>\n",
       "<table border=\"1\" class=\"dataframe\">\n",
       "  <thead>\n",
       "    <tr style=\"text-align: right;\">\n",
       "      <th></th>\n",
       "      <th>Sales</th>\n",
       "    </tr>\n",
       "  </thead>\n",
       "  <tbody>\n",
       "    <tr>\n",
       "      <th>137</th>\n",
       "      <td>20.8</td>\n",
       "    </tr>\n",
       "    <tr>\n",
       "      <th>163</th>\n",
       "      <td>18.0</td>\n",
       "    </tr>\n",
       "    <tr>\n",
       "      <th>111</th>\n",
       "      <td>21.8</td>\n",
       "    </tr>\n",
       "    <tr>\n",
       "      <th>123</th>\n",
       "      <td>15.2</td>\n",
       "    </tr>\n",
       "    <tr>\n",
       "      <th>109</th>\n",
       "      <td>19.8</td>\n",
       "    </tr>\n",
       "    <tr>\n",
       "      <th>...</th>\n",
       "      <td>...</td>\n",
       "    </tr>\n",
       "    <tr>\n",
       "      <th>43</th>\n",
       "      <td>12.9</td>\n",
       "    </tr>\n",
       "    <tr>\n",
       "      <th>22</th>\n",
       "      <td>5.6</td>\n",
       "    </tr>\n",
       "    <tr>\n",
       "      <th>72</th>\n",
       "      <td>8.8</td>\n",
       "    </tr>\n",
       "    <tr>\n",
       "      <th>15</th>\n",
       "      <td>22.4</td>\n",
       "    </tr>\n",
       "    <tr>\n",
       "      <th>168</th>\n",
       "      <td>17.1</td>\n",
       "    </tr>\n",
       "  </tbody>\n",
       "</table>\n",
       "<p>160 rows × 1 columns</p>\n",
       "</div>"
      ],
      "text/plain": [
       "     Sales\n",
       "137   20.8\n",
       "163   18.0\n",
       "111   21.8\n",
       "123   15.2\n",
       "109   19.8\n",
       "..     ...\n",
       "43    12.9\n",
       "22     5.6\n",
       "72     8.8\n",
       "15    22.4\n",
       "168   17.1\n",
       "\n",
       "[160 rows x 1 columns]"
      ]
     },
     "execution_count": 13,
     "metadata": {},
     "output_type": "execute_result"
    }
   ],
   "source": [
    "y_train"
   ]
  },
  {
   "cell_type": "code",
   "execution_count": 14,
   "id": "7d8f429b",
   "metadata": {
    "ExecuteTime": {
     "end_time": "2024-03-09T17:40:36.983397Z",
     "start_time": "2024-03-09T17:40:36.969355Z"
    }
   },
   "outputs": [
    {
     "data": {
      "text/html": [
       "<div>\n",
       "<style scoped>\n",
       "    .dataframe tbody tr th:only-of-type {\n",
       "        vertical-align: middle;\n",
       "    }\n",
       "\n",
       "    .dataframe tbody tr th {\n",
       "        vertical-align: top;\n",
       "    }\n",
       "\n",
       "    .dataframe thead th {\n",
       "        text-align: right;\n",
       "    }\n",
       "</style>\n",
       "<table border=\"1\" class=\"dataframe\">\n",
       "  <thead>\n",
       "    <tr style=\"text-align: right;\">\n",
       "      <th></th>\n",
       "      <th>TV</th>\n",
       "    </tr>\n",
       "  </thead>\n",
       "  <tbody>\n",
       "    <tr>\n",
       "      <th>112</th>\n",
       "      <td>175.7</td>\n",
       "    </tr>\n",
       "    <tr>\n",
       "      <th>29</th>\n",
       "      <td>70.6</td>\n",
       "    </tr>\n",
       "    <tr>\n",
       "      <th>182</th>\n",
       "      <td>56.2</td>\n",
       "    </tr>\n",
       "    <tr>\n",
       "      <th>199</th>\n",
       "      <td>232.1</td>\n",
       "    </tr>\n",
       "    <tr>\n",
       "      <th>193</th>\n",
       "      <td>166.8</td>\n",
       "    </tr>\n",
       "    <tr>\n",
       "      <th>85</th>\n",
       "      <td>193.2</td>\n",
       "    </tr>\n",
       "    <tr>\n",
       "      <th>10</th>\n",
       "      <td>66.1</td>\n",
       "    </tr>\n",
       "    <tr>\n",
       "      <th>54</th>\n",
       "      <td>262.7</td>\n",
       "    </tr>\n",
       "    <tr>\n",
       "      <th>115</th>\n",
       "      <td>75.1</td>\n",
       "    </tr>\n",
       "    <tr>\n",
       "      <th>35</th>\n",
       "      <td>290.7</td>\n",
       "    </tr>\n",
       "    <tr>\n",
       "      <th>12</th>\n",
       "      <td>23.8</td>\n",
       "    </tr>\n",
       "    <tr>\n",
       "      <th>92</th>\n",
       "      <td>217.7</td>\n",
       "    </tr>\n",
       "    <tr>\n",
       "      <th>13</th>\n",
       "      <td>97.5</td>\n",
       "    </tr>\n",
       "    <tr>\n",
       "      <th>126</th>\n",
       "      <td>7.8</td>\n",
       "    </tr>\n",
       "    <tr>\n",
       "      <th>174</th>\n",
       "      <td>222.4</td>\n",
       "    </tr>\n",
       "    <tr>\n",
       "      <th>2</th>\n",
       "      <td>17.2</td>\n",
       "    </tr>\n",
       "    <tr>\n",
       "      <th>44</th>\n",
       "      <td>25.1</td>\n",
       "    </tr>\n",
       "    <tr>\n",
       "      <th>3</th>\n",
       "      <td>151.5</td>\n",
       "    </tr>\n",
       "    <tr>\n",
       "      <th>113</th>\n",
       "      <td>209.6</td>\n",
       "    </tr>\n",
       "    <tr>\n",
       "      <th>14</th>\n",
       "      <td>204.1</td>\n",
       "    </tr>\n",
       "    <tr>\n",
       "      <th>23</th>\n",
       "      <td>228.3</td>\n",
       "    </tr>\n",
       "    <tr>\n",
       "      <th>25</th>\n",
       "      <td>262.9</td>\n",
       "    </tr>\n",
       "    <tr>\n",
       "      <th>6</th>\n",
       "      <td>57.5</td>\n",
       "    </tr>\n",
       "    <tr>\n",
       "      <th>134</th>\n",
       "      <td>36.9</td>\n",
       "    </tr>\n",
       "    <tr>\n",
       "      <th>165</th>\n",
       "      <td>234.5</td>\n",
       "    </tr>\n",
       "    <tr>\n",
       "      <th>173</th>\n",
       "      <td>168.4</td>\n",
       "    </tr>\n",
       "    <tr>\n",
       "      <th>45</th>\n",
       "      <td>175.1</td>\n",
       "    </tr>\n",
       "    <tr>\n",
       "      <th>65</th>\n",
       "      <td>69.0</td>\n",
       "    </tr>\n",
       "    <tr>\n",
       "      <th>48</th>\n",
       "      <td>227.2</td>\n",
       "    </tr>\n",
       "    <tr>\n",
       "      <th>122</th>\n",
       "      <td>224.0</td>\n",
       "    </tr>\n",
       "    <tr>\n",
       "      <th>178</th>\n",
       "      <td>276.7</td>\n",
       "    </tr>\n",
       "    <tr>\n",
       "      <th>64</th>\n",
       "      <td>131.1</td>\n",
       "    </tr>\n",
       "    <tr>\n",
       "      <th>9</th>\n",
       "      <td>199.8</td>\n",
       "    </tr>\n",
       "    <tr>\n",
       "      <th>57</th>\n",
       "      <td>136.2</td>\n",
       "    </tr>\n",
       "    <tr>\n",
       "      <th>78</th>\n",
       "      <td>5.4</td>\n",
       "    </tr>\n",
       "    <tr>\n",
       "      <th>71</th>\n",
       "      <td>109.8</td>\n",
       "    </tr>\n",
       "    <tr>\n",
       "      <th>128</th>\n",
       "      <td>220.3</td>\n",
       "    </tr>\n",
       "    <tr>\n",
       "      <th>176</th>\n",
       "      <td>248.4</td>\n",
       "    </tr>\n",
       "    <tr>\n",
       "      <th>131</th>\n",
       "      <td>265.2</td>\n",
       "    </tr>\n",
       "    <tr>\n",
       "      <th>53</th>\n",
       "      <td>182.6</td>\n",
       "    </tr>\n",
       "  </tbody>\n",
       "</table>\n",
       "</div>"
      ],
      "text/plain": [
       "        TV\n",
       "112  175.7\n",
       "29    70.6\n",
       "182   56.2\n",
       "199  232.1\n",
       "193  166.8\n",
       "85   193.2\n",
       "10    66.1\n",
       "54   262.7\n",
       "115   75.1\n",
       "35   290.7\n",
       "12    23.8\n",
       "92   217.7\n",
       "13    97.5\n",
       "126    7.8\n",
       "174  222.4\n",
       "2     17.2\n",
       "44    25.1\n",
       "3    151.5\n",
       "113  209.6\n",
       "14   204.1\n",
       "23   228.3\n",
       "25   262.9\n",
       "6     57.5\n",
       "134   36.9\n",
       "165  234.5\n",
       "173  168.4\n",
       "45   175.1\n",
       "65    69.0\n",
       "48   227.2\n",
       "122  224.0\n",
       "178  276.7\n",
       "64   131.1\n",
       "9    199.8\n",
       "57   136.2\n",
       "78     5.4\n",
       "71   109.8\n",
       "128  220.3\n",
       "176  248.4\n",
       "131  265.2\n",
       "53   182.6"
      ]
     },
     "execution_count": 14,
     "metadata": {},
     "output_type": "execute_result"
    }
   ],
   "source": [
    "X_test"
   ]
  },
  {
   "cell_type": "code",
   "execution_count": 15,
   "id": "a48749d7",
   "metadata": {
    "ExecuteTime": {
     "end_time": "2024-03-09T17:40:47.546597Z",
     "start_time": "2024-03-09T17:40:47.531777Z"
    }
   },
   "outputs": [
    {
     "data": {
      "text/html": [
       "<div>\n",
       "<style scoped>\n",
       "    .dataframe tbody tr th:only-of-type {\n",
       "        vertical-align: middle;\n",
       "    }\n",
       "\n",
       "    .dataframe tbody tr th {\n",
       "        vertical-align: top;\n",
       "    }\n",
       "\n",
       "    .dataframe thead th {\n",
       "        text-align: right;\n",
       "    }\n",
       "</style>\n",
       "<table border=\"1\" class=\"dataframe\">\n",
       "  <thead>\n",
       "    <tr style=\"text-align: right;\">\n",
       "      <th></th>\n",
       "      <th>Sales</th>\n",
       "    </tr>\n",
       "  </thead>\n",
       "  <tbody>\n",
       "    <tr>\n",
       "      <th>112</th>\n",
       "      <td>14.1</td>\n",
       "    </tr>\n",
       "    <tr>\n",
       "      <th>29</th>\n",
       "      <td>10.5</td>\n",
       "    </tr>\n",
       "    <tr>\n",
       "      <th>182</th>\n",
       "      <td>8.7</td>\n",
       "    </tr>\n",
       "    <tr>\n",
       "      <th>199</th>\n",
       "      <td>13.4</td>\n",
       "    </tr>\n",
       "    <tr>\n",
       "      <th>193</th>\n",
       "      <td>19.6</td>\n",
       "    </tr>\n",
       "    <tr>\n",
       "      <th>85</th>\n",
       "      <td>15.2</td>\n",
       "    </tr>\n",
       "    <tr>\n",
       "      <th>10</th>\n",
       "      <td>8.6</td>\n",
       "    </tr>\n",
       "    <tr>\n",
       "      <th>54</th>\n",
       "      <td>20.2</td>\n",
       "    </tr>\n",
       "    <tr>\n",
       "      <th>115</th>\n",
       "      <td>12.6</td>\n",
       "    </tr>\n",
       "    <tr>\n",
       "      <th>35</th>\n",
       "      <td>12.8</td>\n",
       "    </tr>\n",
       "    <tr>\n",
       "      <th>12</th>\n",
       "      <td>9.2</td>\n",
       "    </tr>\n",
       "    <tr>\n",
       "      <th>92</th>\n",
       "      <td>19.4</td>\n",
       "    </tr>\n",
       "    <tr>\n",
       "      <th>13</th>\n",
       "      <td>9.7</td>\n",
       "    </tr>\n",
       "    <tr>\n",
       "      <th>126</th>\n",
       "      <td>6.6</td>\n",
       "    </tr>\n",
       "    <tr>\n",
       "      <th>174</th>\n",
       "      <td>11.5</td>\n",
       "    </tr>\n",
       "    <tr>\n",
       "      <th>2</th>\n",
       "      <td>9.3</td>\n",
       "    </tr>\n",
       "    <tr>\n",
       "      <th>44</th>\n",
       "      <td>8.5</td>\n",
       "    </tr>\n",
       "    <tr>\n",
       "      <th>3</th>\n",
       "      <td>18.5</td>\n",
       "    </tr>\n",
       "    <tr>\n",
       "      <th>113</th>\n",
       "      <td>15.9</td>\n",
       "    </tr>\n",
       "    <tr>\n",
       "      <th>14</th>\n",
       "      <td>19.0</td>\n",
       "    </tr>\n",
       "    <tr>\n",
       "      <th>23</th>\n",
       "      <td>15.5</td>\n",
       "    </tr>\n",
       "    <tr>\n",
       "      <th>25</th>\n",
       "      <td>12.0</td>\n",
       "    </tr>\n",
       "    <tr>\n",
       "      <th>6</th>\n",
       "      <td>11.8</td>\n",
       "    </tr>\n",
       "    <tr>\n",
       "      <th>134</th>\n",
       "      <td>10.8</td>\n",
       "    </tr>\n",
       "    <tr>\n",
       "      <th>165</th>\n",
       "      <td>11.9</td>\n",
       "    </tr>\n",
       "    <tr>\n",
       "      <th>173</th>\n",
       "      <td>11.7</td>\n",
       "    </tr>\n",
       "    <tr>\n",
       "      <th>45</th>\n",
       "      <td>14.9</td>\n",
       "    </tr>\n",
       "    <tr>\n",
       "      <th>65</th>\n",
       "      <td>9.3</td>\n",
       "    </tr>\n",
       "    <tr>\n",
       "      <th>48</th>\n",
       "      <td>14.8</td>\n",
       "    </tr>\n",
       "    <tr>\n",
       "      <th>122</th>\n",
       "      <td>11.6</td>\n",
       "    </tr>\n",
       "    <tr>\n",
       "      <th>178</th>\n",
       "      <td>11.8</td>\n",
       "    </tr>\n",
       "    <tr>\n",
       "      <th>64</th>\n",
       "      <td>18.0</td>\n",
       "    </tr>\n",
       "    <tr>\n",
       "      <th>9</th>\n",
       "      <td>10.6</td>\n",
       "    </tr>\n",
       "    <tr>\n",
       "      <th>57</th>\n",
       "      <td>13.2</td>\n",
       "    </tr>\n",
       "    <tr>\n",
       "      <th>78</th>\n",
       "      <td>5.3</td>\n",
       "    </tr>\n",
       "    <tr>\n",
       "      <th>71</th>\n",
       "      <td>12.4</td>\n",
       "    </tr>\n",
       "    <tr>\n",
       "      <th>128</th>\n",
       "      <td>24.7</td>\n",
       "    </tr>\n",
       "    <tr>\n",
       "      <th>176</th>\n",
       "      <td>20.2</td>\n",
       "    </tr>\n",
       "    <tr>\n",
       "      <th>131</th>\n",
       "      <td>12.7</td>\n",
       "    </tr>\n",
       "    <tr>\n",
       "      <th>53</th>\n",
       "      <td>21.2</td>\n",
       "    </tr>\n",
       "  </tbody>\n",
       "</table>\n",
       "</div>"
      ],
      "text/plain": [
       "     Sales\n",
       "112   14.1\n",
       "29    10.5\n",
       "182    8.7\n",
       "199   13.4\n",
       "193   19.6\n",
       "85    15.2\n",
       "10     8.6\n",
       "54    20.2\n",
       "115   12.6\n",
       "35    12.8\n",
       "12     9.2\n",
       "92    19.4\n",
       "13     9.7\n",
       "126    6.6\n",
       "174   11.5\n",
       "2      9.3\n",
       "44     8.5\n",
       "3     18.5\n",
       "113   15.9\n",
       "14    19.0\n",
       "23    15.5\n",
       "25    12.0\n",
       "6     11.8\n",
       "134   10.8\n",
       "165   11.9\n",
       "173   11.7\n",
       "45    14.9\n",
       "65     9.3\n",
       "48    14.8\n",
       "122   11.6\n",
       "178   11.8\n",
       "64    18.0\n",
       "9     10.6\n",
       "57    13.2\n",
       "78     5.3\n",
       "71    12.4\n",
       "128   24.7\n",
       "176   20.2\n",
       "131   12.7\n",
       "53    21.2"
      ]
     },
     "execution_count": 15,
     "metadata": {},
     "output_type": "execute_result"
    }
   ],
   "source": [
    "y_test"
   ]
  },
  {
   "cell_type": "code",
   "execution_count": 16,
   "id": "67cd7aaf",
   "metadata": {
    "ExecuteTime": {
     "end_time": "2024-03-09T17:41:05.138709Z",
     "start_time": "2024-03-09T17:41:05.133707Z"
    }
   },
   "outputs": [
    {
     "name": "stdout",
     "output_type": "stream",
     "text": [
      "X_train length : 160\n",
      "Y_train length : 160\n",
      "X_test length : 40\n",
      "Y_test length : 40\n"
     ]
    }
   ],
   "source": [
    "print (\"X_train length :\",len(X_train))\n",
    "print (\"Y_train length :\",len(y_train))\n",
    "print ('X_test length :',len(X_test))\n",
    "print (\"Y_test length :\",len(y_test))"
   ]
  },
  {
   "cell_type": "code",
   "execution_count": 17,
   "id": "5be71c88",
   "metadata": {
    "ExecuteTime": {
     "end_time": "2024-03-09T17:41:26.220463Z",
     "start_time": "2024-03-09T17:41:26.216459Z"
    }
   },
   "outputs": [],
   "source": [
    "# The model\n",
    "model=LinearRegression()"
   ]
  },
  {
   "cell_type": "code",
   "execution_count": 18,
   "id": "dddad5f6",
   "metadata": {
    "ExecuteTime": {
     "end_time": "2024-03-09T17:41:31.738119Z",
     "start_time": "2024-03-09T17:41:31.694274Z"
    }
   },
   "outputs": [
    {
     "data": {
      "text/html": [
       "<style>#sk-container-id-1 {color: black;}#sk-container-id-1 pre{padding: 0;}#sk-container-id-1 div.sk-toggleable {background-color: white;}#sk-container-id-1 label.sk-toggleable__label {cursor: pointer;display: block;width: 100%;margin-bottom: 0;padding: 0.3em;box-sizing: border-box;text-align: center;}#sk-container-id-1 label.sk-toggleable__label-arrow:before {content: \"▸\";float: left;margin-right: 0.25em;color: #696969;}#sk-container-id-1 label.sk-toggleable__label-arrow:hover:before {color: black;}#sk-container-id-1 div.sk-estimator:hover label.sk-toggleable__label-arrow:before {color: black;}#sk-container-id-1 div.sk-toggleable__content {max-height: 0;max-width: 0;overflow: hidden;text-align: left;background-color: #f0f8ff;}#sk-container-id-1 div.sk-toggleable__content pre {margin: 0.2em;color: black;border-radius: 0.25em;background-color: #f0f8ff;}#sk-container-id-1 input.sk-toggleable__control:checked~div.sk-toggleable__content {max-height: 200px;max-width: 100%;overflow: auto;}#sk-container-id-1 input.sk-toggleable__control:checked~label.sk-toggleable__label-arrow:before {content: \"▾\";}#sk-container-id-1 div.sk-estimator input.sk-toggleable__control:checked~label.sk-toggleable__label {background-color: #d4ebff;}#sk-container-id-1 div.sk-label input.sk-toggleable__control:checked~label.sk-toggleable__label {background-color: #d4ebff;}#sk-container-id-1 input.sk-hidden--visually {border: 0;clip: rect(1px 1px 1px 1px);clip: rect(1px, 1px, 1px, 1px);height: 1px;margin: -1px;overflow: hidden;padding: 0;position: absolute;width: 1px;}#sk-container-id-1 div.sk-estimator {font-family: monospace;background-color: #f0f8ff;border: 1px dotted black;border-radius: 0.25em;box-sizing: border-box;margin-bottom: 0.5em;}#sk-container-id-1 div.sk-estimator:hover {background-color: #d4ebff;}#sk-container-id-1 div.sk-parallel-item::after {content: \"\";width: 100%;border-bottom: 1px solid gray;flex-grow: 1;}#sk-container-id-1 div.sk-label:hover label.sk-toggleable__label {background-color: #d4ebff;}#sk-container-id-1 div.sk-serial::before {content: \"\";position: absolute;border-left: 1px solid gray;box-sizing: border-box;top: 0;bottom: 0;left: 50%;z-index: 0;}#sk-container-id-1 div.sk-serial {display: flex;flex-direction: column;align-items: center;background-color: white;padding-right: 0.2em;padding-left: 0.2em;position: relative;}#sk-container-id-1 div.sk-item {position: relative;z-index: 1;}#sk-container-id-1 div.sk-parallel {display: flex;align-items: stretch;justify-content: center;background-color: white;position: relative;}#sk-container-id-1 div.sk-item::before, #sk-container-id-1 div.sk-parallel-item::before {content: \"\";position: absolute;border-left: 1px solid gray;box-sizing: border-box;top: 0;bottom: 0;left: 50%;z-index: -1;}#sk-container-id-1 div.sk-parallel-item {display: flex;flex-direction: column;z-index: 1;position: relative;background-color: white;}#sk-container-id-1 div.sk-parallel-item:first-child::after {align-self: flex-end;width: 50%;}#sk-container-id-1 div.sk-parallel-item:last-child::after {align-self: flex-start;width: 50%;}#sk-container-id-1 div.sk-parallel-item:only-child::after {width: 0;}#sk-container-id-1 div.sk-dashed-wrapped {border: 1px dashed gray;margin: 0 0.4em 0.5em 0.4em;box-sizing: border-box;padding-bottom: 0.4em;background-color: white;}#sk-container-id-1 div.sk-label label {font-family: monospace;font-weight: bold;display: inline-block;line-height: 1.2em;}#sk-container-id-1 div.sk-label-container {text-align: center;}#sk-container-id-1 div.sk-container {/* jupyter's `normalize.less` sets `[hidden] { display: none; }` but bootstrap.min.css set `[hidden] { display: none !important; }` so we also need the `!important` here to be able to override the default hidden behavior on the sphinx rendered scikit-learn.org. See: https://github.com/scikit-learn/scikit-learn/issues/21755 */display: inline-block !important;position: relative;}#sk-container-id-1 div.sk-text-repr-fallback {display: none;}</style><div id=\"sk-container-id-1\" class=\"sk-top-container\"><div class=\"sk-text-repr-fallback\"><pre>LinearRegression()</pre><b>In a Jupyter environment, please rerun this cell to show the HTML representation or trust the notebook. <br />On GitHub, the HTML representation is unable to render, please try loading this page with nbviewer.org.</b></div><div class=\"sk-container\" hidden><div class=\"sk-item\"><div class=\"sk-estimator sk-toggleable\"><input class=\"sk-toggleable__control sk-hidden--visually\" id=\"sk-estimator-id-1\" type=\"checkbox\" checked><label for=\"sk-estimator-id-1\" class=\"sk-toggleable__label sk-toggleable__label-arrow\">LinearRegression</label><div class=\"sk-toggleable__content\"><pre>LinearRegression()</pre></div></div></div></div></div>"
      ],
      "text/plain": [
       "LinearRegression()"
      ]
     },
     "execution_count": 18,
     "metadata": {},
     "output_type": "execute_result"
    }
   ],
   "source": [
    "# The implementation of the model\n",
    "model.fit(X_train,y_train)"
   ]
  },
  {
   "cell_type": "markdown",
   "id": "16019a0e",
   "metadata": {},
   "source": [
    "## Accuracy"
   ]
  },
  {
   "cell_type": "markdown",
   "id": "67cc9c58",
   "metadata": {},
   "source": [
    "\n",
    "### -R squared\n"
   ]
  },
  {
   "cell_type": "code",
   "execution_count": 19,
   "id": "dcc129ff",
   "metadata": {
    "ExecuteTime": {
     "end_time": "2024-03-09T17:49:51.473920Z",
     "start_time": "2024-03-09T17:49:51.465218Z"
    }
   },
   "outputs": [
    {
     "data": {
      "text/plain": [
       "0.042179776427879734"
      ]
     },
     "execution_count": 19,
     "metadata": {},
     "output_type": "execute_result"
    }
   ],
   "source": [
    "#accuracy on test set (use R squared) \n",
    "model.score(X_test,y_test)"
   ]
  },
  {
   "cell_type": "code",
   "execution_count": 20,
   "id": "4cbfb3c7",
   "metadata": {
    "ExecuteTime": {
     "end_time": "2024-03-09T17:50:48.945293Z",
     "start_time": "2024-03-09T17:50:48.935331Z"
    }
   },
   "outputs": [
    {
     "data": {
      "text/plain": [
       "0.6908879285121509"
      ]
     },
     "execution_count": 20,
     "metadata": {},
     "output_type": "execute_result"
    }
   ],
   "source": [
    "# accuracy on training set (use R squared) \n",
    "model.score(X_train,y_train)"
   ]
  },
  {
   "cell_type": "code",
   "execution_count": 21,
   "id": "8768053f",
   "metadata": {
    "ExecuteTime": {
     "end_time": "2024-03-09T17:51:03.706806Z",
     "start_time": "2024-03-09T17:51:03.702294Z"
    }
   },
   "outputs": [],
   "source": [
    "# another way for r squared \n",
    "from sklearn.metrics import r2_score"
   ]
  },
  {
   "cell_type": "code",
   "execution_count": 22,
   "id": "a0b63655",
   "metadata": {
    "ExecuteTime": {
     "end_time": "2024-03-09T17:51:14.850921Z",
     "start_time": "2024-03-09T17:51:14.844991Z"
    }
   },
   "outputs": [],
   "source": [
    "y_pred=model.predict(X_test)"
   ]
  },
  {
   "cell_type": "code",
   "execution_count": 23,
   "id": "3c50d8a4",
   "metadata": {
    "ExecuteTime": {
     "end_time": "2024-03-09T17:51:16.935952Z",
     "start_time": "2024-03-09T17:51:16.929707Z"
    }
   },
   "outputs": [
    {
     "data": {
      "text/plain": [
       "array([[15.78344456],\n",
       "       [10.27007924],\n",
       "       [ 9.51467999],\n",
       "       [18.7420916 ],\n",
       "       [15.31656586],\n",
       "       [16.70146447],\n",
       "       [10.03401697],\n",
       "       [20.34731499],\n",
       "       [10.5061415 ],\n",
       "       [21.81614685],\n",
       "       [ 7.81503169],\n",
       "       [17.98669235],\n",
       "       [11.68120699],\n",
       "       [ 6.9756992 ],\n",
       "       [18.23324627],\n",
       "       [ 7.46880704],\n",
       "       [ 7.88322746],\n",
       "       [14.51395416],\n",
       "       [17.56178028],\n",
       "       [17.27325973],\n",
       "       [18.54275013],\n",
       "       [20.35780665],\n",
       "       [ 9.58287576],\n",
       "       [ 8.50223517],\n",
       "       [18.86799147],\n",
       "       [15.40049911],\n",
       "       [15.75196959],\n",
       "       [10.18614599],\n",
       "       [18.48504602],\n",
       "       [18.31717952],\n",
       "       [21.08173092],\n",
       "       [13.44380523],\n",
       "       [17.04768912],\n",
       "       [13.71134246],\n",
       "       [ 6.84979933],\n",
       "       [12.32644385],\n",
       "       [18.12308388],\n",
       "       [19.59716157],\n",
       "       [20.47846069],\n",
       "       [16.14540669]])"
      ]
     },
     "execution_count": 23,
     "metadata": {},
     "output_type": "execute_result"
    }
   ],
   "source": [
    "y_pred"
   ]
  },
  {
   "cell_type": "code",
   "execution_count": 24,
   "id": "5b339854",
   "metadata": {
    "ExecuteTime": {
     "end_time": "2024-03-09T17:51:21.763529Z",
     "start_time": "2024-03-09T17:51:21.750635Z"
    }
   },
   "outputs": [
    {
     "data": {
      "text/html": [
       "<div>\n",
       "<style scoped>\n",
       "    .dataframe tbody tr th:only-of-type {\n",
       "        vertical-align: middle;\n",
       "    }\n",
       "\n",
       "    .dataframe tbody tr th {\n",
       "        vertical-align: top;\n",
       "    }\n",
       "\n",
       "    .dataframe thead th {\n",
       "        text-align: right;\n",
       "    }\n",
       "</style>\n",
       "<table border=\"1\" class=\"dataframe\">\n",
       "  <thead>\n",
       "    <tr style=\"text-align: right;\">\n",
       "      <th></th>\n",
       "      <th>Sales</th>\n",
       "    </tr>\n",
       "  </thead>\n",
       "  <tbody>\n",
       "    <tr>\n",
       "      <th>112</th>\n",
       "      <td>14.1</td>\n",
       "    </tr>\n",
       "    <tr>\n",
       "      <th>29</th>\n",
       "      <td>10.5</td>\n",
       "    </tr>\n",
       "    <tr>\n",
       "      <th>182</th>\n",
       "      <td>8.7</td>\n",
       "    </tr>\n",
       "    <tr>\n",
       "      <th>199</th>\n",
       "      <td>13.4</td>\n",
       "    </tr>\n",
       "    <tr>\n",
       "      <th>193</th>\n",
       "      <td>19.6</td>\n",
       "    </tr>\n",
       "    <tr>\n",
       "      <th>85</th>\n",
       "      <td>15.2</td>\n",
       "    </tr>\n",
       "    <tr>\n",
       "      <th>10</th>\n",
       "      <td>8.6</td>\n",
       "    </tr>\n",
       "    <tr>\n",
       "      <th>54</th>\n",
       "      <td>20.2</td>\n",
       "    </tr>\n",
       "    <tr>\n",
       "      <th>115</th>\n",
       "      <td>12.6</td>\n",
       "    </tr>\n",
       "    <tr>\n",
       "      <th>35</th>\n",
       "      <td>12.8</td>\n",
       "    </tr>\n",
       "    <tr>\n",
       "      <th>12</th>\n",
       "      <td>9.2</td>\n",
       "    </tr>\n",
       "    <tr>\n",
       "      <th>92</th>\n",
       "      <td>19.4</td>\n",
       "    </tr>\n",
       "    <tr>\n",
       "      <th>13</th>\n",
       "      <td>9.7</td>\n",
       "    </tr>\n",
       "    <tr>\n",
       "      <th>126</th>\n",
       "      <td>6.6</td>\n",
       "    </tr>\n",
       "    <tr>\n",
       "      <th>174</th>\n",
       "      <td>11.5</td>\n",
       "    </tr>\n",
       "    <tr>\n",
       "      <th>2</th>\n",
       "      <td>9.3</td>\n",
       "    </tr>\n",
       "    <tr>\n",
       "      <th>44</th>\n",
       "      <td>8.5</td>\n",
       "    </tr>\n",
       "    <tr>\n",
       "      <th>3</th>\n",
       "      <td>18.5</td>\n",
       "    </tr>\n",
       "    <tr>\n",
       "      <th>113</th>\n",
       "      <td>15.9</td>\n",
       "    </tr>\n",
       "    <tr>\n",
       "      <th>14</th>\n",
       "      <td>19.0</td>\n",
       "    </tr>\n",
       "    <tr>\n",
       "      <th>23</th>\n",
       "      <td>15.5</td>\n",
       "    </tr>\n",
       "    <tr>\n",
       "      <th>25</th>\n",
       "      <td>12.0</td>\n",
       "    </tr>\n",
       "    <tr>\n",
       "      <th>6</th>\n",
       "      <td>11.8</td>\n",
       "    </tr>\n",
       "    <tr>\n",
       "      <th>134</th>\n",
       "      <td>10.8</td>\n",
       "    </tr>\n",
       "    <tr>\n",
       "      <th>165</th>\n",
       "      <td>11.9</td>\n",
       "    </tr>\n",
       "    <tr>\n",
       "      <th>173</th>\n",
       "      <td>11.7</td>\n",
       "    </tr>\n",
       "    <tr>\n",
       "      <th>45</th>\n",
       "      <td>14.9</td>\n",
       "    </tr>\n",
       "    <tr>\n",
       "      <th>65</th>\n",
       "      <td>9.3</td>\n",
       "    </tr>\n",
       "    <tr>\n",
       "      <th>48</th>\n",
       "      <td>14.8</td>\n",
       "    </tr>\n",
       "    <tr>\n",
       "      <th>122</th>\n",
       "      <td>11.6</td>\n",
       "    </tr>\n",
       "    <tr>\n",
       "      <th>178</th>\n",
       "      <td>11.8</td>\n",
       "    </tr>\n",
       "    <tr>\n",
       "      <th>64</th>\n",
       "      <td>18.0</td>\n",
       "    </tr>\n",
       "    <tr>\n",
       "      <th>9</th>\n",
       "      <td>10.6</td>\n",
       "    </tr>\n",
       "    <tr>\n",
       "      <th>57</th>\n",
       "      <td>13.2</td>\n",
       "    </tr>\n",
       "    <tr>\n",
       "      <th>78</th>\n",
       "      <td>5.3</td>\n",
       "    </tr>\n",
       "    <tr>\n",
       "      <th>71</th>\n",
       "      <td>12.4</td>\n",
       "    </tr>\n",
       "    <tr>\n",
       "      <th>128</th>\n",
       "      <td>24.7</td>\n",
       "    </tr>\n",
       "    <tr>\n",
       "      <th>176</th>\n",
       "      <td>20.2</td>\n",
       "    </tr>\n",
       "    <tr>\n",
       "      <th>131</th>\n",
       "      <td>12.7</td>\n",
       "    </tr>\n",
       "    <tr>\n",
       "      <th>53</th>\n",
       "      <td>21.2</td>\n",
       "    </tr>\n",
       "  </tbody>\n",
       "</table>\n",
       "</div>"
      ],
      "text/plain": [
       "     Sales\n",
       "112   14.1\n",
       "29    10.5\n",
       "182    8.7\n",
       "199   13.4\n",
       "193   19.6\n",
       "85    15.2\n",
       "10     8.6\n",
       "54    20.2\n",
       "115   12.6\n",
       "35    12.8\n",
       "12     9.2\n",
       "92    19.4\n",
       "13     9.7\n",
       "126    6.6\n",
       "174   11.5\n",
       "2      9.3\n",
       "44     8.5\n",
       "3     18.5\n",
       "113   15.9\n",
       "14    19.0\n",
       "23    15.5\n",
       "25    12.0\n",
       "6     11.8\n",
       "134   10.8\n",
       "165   11.9\n",
       "173   11.7\n",
       "45    14.9\n",
       "65     9.3\n",
       "48    14.8\n",
       "122   11.6\n",
       "178   11.8\n",
       "64    18.0\n",
       "9     10.6\n",
       "57    13.2\n",
       "78     5.3\n",
       "71    12.4\n",
       "128   24.7\n",
       "176   20.2\n",
       "131   12.7\n",
       "53    21.2"
      ]
     },
     "execution_count": 24,
     "metadata": {},
     "output_type": "execute_result"
    }
   ],
   "source": [
    "y_test"
   ]
  },
  {
   "cell_type": "code",
   "execution_count": 25,
   "id": "0add1166",
   "metadata": {
    "ExecuteTime": {
     "end_time": "2024-03-09T17:51:31.066965Z",
     "start_time": "2024-03-09T17:51:31.059405Z"
    }
   },
   "outputs": [
    {
     "data": {
      "text/plain": [
       "0.042179776427879734"
      ]
     },
     "execution_count": 25,
     "metadata": {},
     "output_type": "execute_result"
    }
   ],
   "source": [
    "r2_score(y_test,y_pred) #actual , predicted for test"
   ]
  },
  {
   "cell_type": "code",
   "execution_count": 26,
   "id": "63388d7e",
   "metadata": {
    "ExecuteTime": {
     "end_time": "2024-03-09T17:51:38.515647Z",
     "start_time": "2024-03-09T17:51:38.509606Z"
    }
   },
   "outputs": [],
   "source": [
    "y_pred_train=model.predict(X_train)"
   ]
  },
  {
   "cell_type": "code",
   "execution_count": 27,
   "id": "14441e56",
   "metadata": {
    "ExecuteTime": {
     "end_time": "2024-03-09T17:51:44.364457Z",
     "start_time": "2024-03-09T17:51:44.355771Z"
    }
   },
   "outputs": [
    {
     "data": {
      "text/plain": [
       "array([[20.92435608],\n",
       "       [15.14345353],\n",
       "       [19.24569109],\n",
       "       [13.02413898],\n",
       "       [19.96436954],\n",
       "       [16.72769361],\n",
       "       [15.85164032],\n",
       "       [ 6.60324541],\n",
       "       [10.41696242],\n",
       "       [ 7.02291165],\n",
       "       [13.4752802 ],\n",
       "       [18.23324627],\n",
       "       [17.82931751],\n",
       "       [16.59130208],\n",
       "       [ 9.83467551],\n",
       "       [12.32644385],\n",
       "       [ 8.21896046],\n",
       "       [ 7.01766582],\n",
       "       [ 7.59470691],\n",
       "       [21.09222258],\n",
       "       [19.61814489],\n",
       "       [18.09685474],\n",
       "       [12.20054397],\n",
       "       [21.96827587],\n",
       "       [21.48041386],\n",
       "       [10.51663316],\n",
       "       [19.88043629],\n",
       "       [ 7.87798163],\n",
       "       [ 7.25372809],\n",
       "       [12.05366079],\n",
       "       [14.78149139],\n",
       "       [ 7.50552784],\n",
       "       [19.16175784],\n",
       "       [12.65168519],\n",
       "       [ 8.90091811],\n",
       "       [ 7.58421526],\n",
       "       [ 7.46880704],\n",
       "       [ 8.91140976],\n",
       "       [15.61557806],\n",
       "       [21.56959293],\n",
       "       [19.32437851],\n",
       "       [20.56763977],\n",
       "       [15.19591181],\n",
       "       [15.25361592],\n",
       "       [19.11979122],\n",
       "       [18.63717503],\n",
       "       [19.16175784],\n",
       "       [14.42477508],\n",
       "       [21.76368857],\n",
       "       [13.16053051],\n",
       "       [18.02341315],\n",
       "       [ 7.18028649],\n",
       "       [11.49235718],\n",
       "       [18.13357554],\n",
       "       [12.88774745],\n",
       "       [21.93155507],\n",
       "       [16.41818975],\n",
       "       [21.32828484],\n",
       "       [17.61948439],\n",
       "       [18.02865898],\n",
       "       [10.66876217],\n",
       "       [10.77367873],\n",
       "       [16.26606074],\n",
       "       [10.52712481],\n",
       "       [19.72830728],\n",
       "       [12.91397659],\n",
       "       [19.02012048],\n",
       "       [17.00047667],\n",
       "       [10.12319605],\n",
       "       [16.93228091],\n",
       "       [ 8.06683144],\n",
       "       [13.65888418],\n",
       "       [13.97887969],\n",
       "       [15.85164032],\n",
       "       [17.76112174],\n",
       "       [ 8.6386267 ],\n",
       "       [11.06219928],\n",
       "       [11.61301123],\n",
       "       [11.50809467],\n",
       "       [12.3736563 ],\n",
       "       [13.61167173],\n",
       "       [17.76636757],\n",
       "       [10.19663764],\n",
       "       [16.26606074],\n",
       "       [22.11515905],\n",
       "       [11.1408867 ],\n",
       "       [12.71463513],\n",
       "       [ 9.10025957],\n",
       "       [20.2738734 ],\n",
       "       [19.14602036],\n",
       "       [19.02012048],\n",
       "       [ 9.69303815],\n",
       "       [ 6.94947006],\n",
       "       [14.29362938],\n",
       "       [10.56909144],\n",
       "       [17.01096833],\n",
       "       [ 9.37304263],\n",
       "       [11.58678209],\n",
       "       [17.18932648],\n",
       "       [ 8.82223069],\n",
       "       [ 8.00912733],\n",
       "       [15.55262812],\n",
       "       [14.06281294],\n",
       "       [11.66546951],\n",
       "       [ 8.57043094],\n",
       "       [16.93228091],\n",
       "       [10.15467102],\n",
       "       [18.41160443],\n",
       "       [13.80052154],\n",
       "       [13.35462615],\n",
       "       [10.57433727],\n",
       "       [21.29156405],\n",
       "       [13.92642141],\n",
       "       [ 6.78160356],\n",
       "       [21.44369306],\n",
       "       [ 7.9094566 ],\n",
       "       [18.52701264],\n",
       "       [10.0759836 ],\n",
       "       [13.88445479],\n",
       "       [ 7.00717417],\n",
       "       [17.04768912],\n",
       "       [17.91849659],\n",
       "       [10.57433727],\n",
       "       [17.32047218],\n",
       "       [ 7.55274029],\n",
       "       [ 7.54749446],\n",
       "       [11.2720324 ],\n",
       "       [11.19859081],\n",
       "       [17.9394799 ],\n",
       "       [13.87396313],\n",
       "       [21.65352618],\n",
       "       [17.62473021],\n",
       "       [20.499444  ],\n",
       "       [ 8.82747651],\n",
       "       [16.42343558],\n",
       "       [11.83333601],\n",
       "       [11.3087532 ],\n",
       "       [ 9.18943865],\n",
       "       [16.05098179],\n",
       "       [21.26533491],\n",
       "       [17.41489709],\n",
       "       [10.48515819],\n",
       "       [13.8687173 ],\n",
       "       [18.60570007],\n",
       "       [ 8.55993928],\n",
       "       [12.48906452],\n",
       "       [11.95399005],\n",
       "       [19.15126619],\n",
       "       [14.41952925],\n",
       "       [15.13296187],\n",
       "       [15.49492401],\n",
       "       [16.44966472],\n",
       "       [12.87200997],\n",
       "       [19.06208711],\n",
       "       [ 7.45306956],\n",
       "       [17.42014292],\n",
       "       [ 7.25897392],\n",
       "       [ 7.97240654],\n",
       "       [16.81687269],\n",
       "       [17.86603831]])"
      ]
     },
     "execution_count": 27,
     "metadata": {},
     "output_type": "execute_result"
    }
   ],
   "source": [
    "y_pred_train"
   ]
  },
  {
   "cell_type": "code",
   "execution_count": 28,
   "id": "78a0900e",
   "metadata": {
    "ExecuteTime": {
     "end_time": "2024-03-09T17:51:47.439782Z",
     "start_time": "2024-03-09T17:51:47.427984Z"
    }
   },
   "outputs": [
    {
     "data": {
      "text/html": [
       "<div>\n",
       "<style scoped>\n",
       "    .dataframe tbody tr th:only-of-type {\n",
       "        vertical-align: middle;\n",
       "    }\n",
       "\n",
       "    .dataframe tbody tr th {\n",
       "        vertical-align: top;\n",
       "    }\n",
       "\n",
       "    .dataframe thead th {\n",
       "        text-align: right;\n",
       "    }\n",
       "</style>\n",
       "<table border=\"1\" class=\"dataframe\">\n",
       "  <thead>\n",
       "    <tr style=\"text-align: right;\">\n",
       "      <th></th>\n",
       "      <th>Sales</th>\n",
       "    </tr>\n",
       "  </thead>\n",
       "  <tbody>\n",
       "    <tr>\n",
       "      <th>137</th>\n",
       "      <td>20.8</td>\n",
       "    </tr>\n",
       "    <tr>\n",
       "      <th>163</th>\n",
       "      <td>18.0</td>\n",
       "    </tr>\n",
       "    <tr>\n",
       "      <th>111</th>\n",
       "      <td>21.8</td>\n",
       "    </tr>\n",
       "    <tr>\n",
       "      <th>123</th>\n",
       "      <td>15.2</td>\n",
       "    </tr>\n",
       "    <tr>\n",
       "      <th>109</th>\n",
       "      <td>19.8</td>\n",
       "    </tr>\n",
       "    <tr>\n",
       "      <th>...</th>\n",
       "      <td>...</td>\n",
       "    </tr>\n",
       "    <tr>\n",
       "      <th>43</th>\n",
       "      <td>12.9</td>\n",
       "    </tr>\n",
       "    <tr>\n",
       "      <th>22</th>\n",
       "      <td>5.6</td>\n",
       "    </tr>\n",
       "    <tr>\n",
       "      <th>72</th>\n",
       "      <td>8.8</td>\n",
       "    </tr>\n",
       "    <tr>\n",
       "      <th>15</th>\n",
       "      <td>22.4</td>\n",
       "    </tr>\n",
       "    <tr>\n",
       "      <th>168</th>\n",
       "      <td>17.1</td>\n",
       "    </tr>\n",
       "  </tbody>\n",
       "</table>\n",
       "<p>160 rows × 1 columns</p>\n",
       "</div>"
      ],
      "text/plain": [
       "     Sales\n",
       "137   20.8\n",
       "163   18.0\n",
       "111   21.8\n",
       "123   15.2\n",
       "109   19.8\n",
       "..     ...\n",
       "43    12.9\n",
       "22     5.6\n",
       "72     8.8\n",
       "15    22.4\n",
       "168   17.1\n",
       "\n",
       "[160 rows x 1 columns]"
      ]
     },
     "execution_count": 28,
     "metadata": {},
     "output_type": "execute_result"
    }
   ],
   "source": [
    "y_train"
   ]
  },
  {
   "cell_type": "code",
   "execution_count": 29,
   "id": "119748d7",
   "metadata": {
    "ExecuteTime": {
     "end_time": "2024-03-09T17:51:51.525788Z",
     "start_time": "2024-03-09T17:51:51.517260Z"
    }
   },
   "outputs": [
    {
     "data": {
      "text/plain": [
       "0.6908879285121509"
      ]
     },
     "execution_count": 29,
     "metadata": {},
     "output_type": "execute_result"
    }
   ],
   "source": [
    "r2_score(y_train,y_pred_train) #actual , predicted for train"
   ]
  },
  {
   "cell_type": "markdown",
   "id": "7c7f86a0",
   "metadata": {},
   "source": [
    "### -Mean squared error\n"
   ]
  },
  {
   "cell_type": "code",
   "execution_count": 30,
   "id": "6e76ef50",
   "metadata": {
    "ExecuteTime": {
     "end_time": "2024-03-09T17:52:49.927544Z",
     "start_time": "2024-03-09T17:52:49.923687Z"
    }
   },
   "outputs": [],
   "source": [
    "from sklearn.metrics import mean_squared_error"
   ]
  },
  {
   "cell_type": "code",
   "execution_count": 31,
   "id": "ff40f365",
   "metadata": {
    "ExecuteTime": {
     "end_time": "2024-03-09T17:53:25.341140Z",
     "start_time": "2024-03-09T17:53:25.333958Z"
    }
   },
   "outputs": [
    {
     "data": {
      "text/plain": [
       "17.792893505799917"
      ]
     },
     "execution_count": 31,
     "metadata": {},
     "output_type": "execute_result"
    }
   ],
   "source": [
    "\n",
    "\n",
    "# mse on test set\n",
    "mean_squared_error(y_test,y_pred) #(actual,predicted)\n",
    "\n"
   ]
  },
  {
   "cell_type": "code",
   "execution_count": 32,
   "id": "86d59d05",
   "metadata": {
    "ExecuteTime": {
     "end_time": "2024-03-09T17:53:34.287047Z",
     "start_time": "2024-03-09T17:53:34.279451Z"
    }
   },
   "outputs": [
    {
     "data": {
      "text/plain": [
       "8.99761678931429"
      ]
     },
     "execution_count": 32,
     "metadata": {},
     "output_type": "execute_result"
    }
   ],
   "source": [
    "#mse for training set\n",
    "mean_squared_error(y_train,y_pred_train) #(actual,predicted)"
   ]
  },
  {
   "cell_type": "markdown",
   "id": "b73fc2db",
   "metadata": {},
   "source": [
    "### - Mean absolute error"
   ]
  },
  {
   "cell_type": "code",
   "execution_count": 33,
   "id": "83ef6569",
   "metadata": {
    "ExecuteTime": {
     "end_time": "2024-03-09T17:55:09.674850Z",
     "start_time": "2024-03-09T17:55:09.671497Z"
    }
   },
   "outputs": [],
   "source": [
    "from sklearn.metrics import mean_absolute_error"
   ]
  },
  {
   "cell_type": "code",
   "execution_count": 34,
   "id": "e787e277",
   "metadata": {
    "ExecuteTime": {
     "end_time": "2024-03-09T17:55:43.992252Z",
     "start_time": "2024-03-09T17:55:43.984707Z"
    }
   },
   "outputs": [
    {
     "data": {
      "text/plain": [
       "3.23536829950064"
      ]
     },
     "execution_count": 34,
     "metadata": {},
     "output_type": "execute_result"
    }
   ],
   "source": [
    "# mae on test set\n",
    "mean_absolute_error(y_test,y_pred) #(actual,predicted)"
   ]
  },
  {
   "cell_type": "code",
   "execution_count": 35,
   "id": "420f9e5c",
   "metadata": {
    "ExecuteTime": {
     "end_time": "2024-03-09T17:55:55.194594Z",
     "start_time": "2024-03-09T17:55:55.185304Z"
    }
   },
   "outputs": [
    {
     "data": {
      "text/plain": [
       "2.382302249938401"
      ]
     },
     "execution_count": 35,
     "metadata": {},
     "output_type": "execute_result"
    }
   ],
   "source": [
    "#mae for training set\n",
    "mean_absolute_error(y_train,y_pred_train) #(actual,predicted)"
   ]
  },
  {
   "cell_type": "markdown",
   "id": "6cfa1348",
   "metadata": {},
   "source": [
    "\n",
    "### -Root mean squared error\n"
   ]
  },
  {
   "cell_type": "code",
   "execution_count": 36,
   "id": "6a650c30",
   "metadata": {
    "ExecuteTime": {
     "end_time": "2024-03-09T17:56:11.422253Z",
     "start_time": "2024-03-09T17:56:11.414748Z"
    }
   },
   "outputs": [
    {
     "data": {
      "text/plain": [
       "4.21816233753514"
      ]
     },
     "execution_count": 36,
     "metadata": {},
     "output_type": "execute_result"
    }
   ],
   "source": [
    "# rmse on test set\n",
    "np.sqrt(mean_squared_error(y_test,y_pred))"
   ]
  },
  {
   "cell_type": "code",
   "execution_count": 37,
   "id": "4efaabe8",
   "metadata": {
    "ExecuteTime": {
     "end_time": "2024-03-09T17:56:12.871255Z",
     "start_time": "2024-03-09T17:56:12.862349Z"
    }
   },
   "outputs": [
    {
     "data": {
      "text/plain": [
       "2.9996027719206904"
      ]
     },
     "execution_count": 37,
     "metadata": {},
     "output_type": "execute_result"
    }
   ],
   "source": [
    "# rmse on training set\n",
    "np.sqrt(mean_squared_error(y_train,y_pred_train))"
   ]
  },
  {
   "cell_type": "markdown",
   "id": "dd46db06",
   "metadata": {},
   "source": [
    "\n",
    "### Parameters for best fit line\n"
   ]
  },
  {
   "cell_type": "code",
   "execution_count": null,
   "id": "7a285131",
   "metadata": {},
   "outputs": [],
   "source": [
    "# y = mx + b \n",
    "# when training , we try to find best values for m and b "
   ]
  },
  {
   "cell_type": "code",
   "execution_count": 38,
   "id": "36721b9d",
   "metadata": {
    "ExecuteTime": {
     "end_time": "2024-03-09T17:57:16.938547Z",
     "start_time": "2024-03-09T17:57:16.931795Z"
    }
   },
   "outputs": [
    {
     "data": {
      "text/plain": [
       "array([[0.05245828]])"
      ]
     },
     "execution_count": 38,
     "metadata": {},
     "output_type": "execute_result"
    }
   ],
   "source": [
    "model.coef_ # M "
   ]
  },
  {
   "cell_type": "code",
   "execution_count": 39,
   "id": "f6d296de",
   "metadata": {
    "ExecuteTime": {
     "end_time": "2024-03-09T17:57:24.655856Z",
     "start_time": "2024-03-09T17:57:24.650437Z"
    }
   },
   "outputs": [
    {
     "data": {
      "text/plain": [
       "array([6.56652461])"
      ]
     },
     "execution_count": 39,
     "metadata": {},
     "output_type": "execute_result"
    }
   ],
   "source": [
    "model.intercept_ #b"
   ]
  },
  {
   "cell_type": "markdown",
   "id": "85c91391",
   "metadata": {},
   "source": [
    "\n",
    "### Real values vs predicted values\n"
   ]
  },
  {
   "cell_type": "code",
   "execution_count": 41,
   "id": "37d698e9",
   "metadata": {
    "ExecuteTime": {
     "end_time": "2024-03-09T18:00:52.491341Z",
     "start_time": "2024-03-09T18:00:52.270305Z"
    }
   },
   "outputs": [
    {
     "data": {
      "image/png": "[encoded data removed]",
      "text/plain": [
       "<Figure size 640x480 with 1 Axes>"
      ]
     },
     "metadata": {},
     "output_type": "display_data"
    }
   ],
   "source": [
    "# how model perform on all dataset\n",
    "plt.plot(X_test, model.predict(X_test), color='black') \n",
    "plt.scatter(feature, target, color=\"green\")  \n",
    "\n",
    "plt.xlabel(\"TV\")\n",
    "plt.ylabel(\"Sales\")\n",
    "\n",
    "plt.legend((\"Predicted values\", \"Actual values\"))\n",
    "plt.show()"
   ]
  },
  {
   "cell_type": "code",
   "execution_count": 42,
   "id": "b6c4d6d2",
   "metadata": {
    "ExecuteTime": {
     "end_time": "2024-03-09T18:01:27.057962Z",
     "start_time": "2024-03-09T18:01:26.794274Z"
    }
   },
   "outputs": [
    {
     "data": {
      "text/plain": [
       "<matplotlib.legend.Legend at 0x1aa4ac649d0>"
      ]
     },
     "execution_count": 42,
     "metadata": {},
     "output_type": "execute_result"
    },
    {
     "data": {
      "image/png": "[encoded data removed]",
      "text/plain": [
       "<Figure size 640x480 with 1 Axes>"
      ]
     },
     "metadata": {},
     "output_type": "display_data"
    }
   ],
   "source": [
    "plt.plot(X_test,model.predict(X_test),color='yellow')\n",
    "plt.scatter(X_test,y_test,color=\"grey\")\n",
    "\n",
    "plt.xlabel(\"TV\")\n",
    "plt.ylabel(\"Sales\")\n",
    "\n",
    "plt.legend((\"Predicted values\",\"Actual values\"))"
   ]
  },
  {
   "cell_type": "code",
   "execution_count": 43,
   "id": "e2025dea",
   "metadata": {
    "ExecuteTime": {
     "end_time": "2024-03-09T18:02:21.312297Z",
     "start_time": "2024-03-09T18:02:21.076841Z"
    }
   },
   "outputs": [
    {
     "data": {
      "text/plain": [
       "<matplotlib.legend.Legend at 0x1aa4ac6d210>"
      ]
     },
     "execution_count": 43,
     "metadata": {},
     "output_type": "execute_result"
    },
    {
     "data": {
      "image/png": "[encoded data removed]",
      "text/plain": [
       "<Figure size 640x480 with 1 Axes>"
      ]
     },
     "metadata": {},
     "output_type": "display_data"
    }
   ],
   "source": [
    "# on training set\n",
    "plt.plot(X_train,y_pred_train,color='blue')\n",
    "plt.scatter(X_train,y_train,color=\"red\")\n",
    "\n",
    "plt.xlabel(\"TV\")\n",
    "plt.ylabel(\"Sales\")\n",
    "\n",
    "plt.legend((\"Predicted values\",\"Actual values\"))"
   ]
  },
  {
   "cell_type": "markdown",
   "id": "9153de17",
   "metadata": {},
   "source": [
    "## Predict"
   ]
  },
  {
   "cell_type": "code",
   "execution_count": 44,
   "id": "8ba0be74",
   "metadata": {
    "ExecuteTime": {
     "end_time": "2024-03-09T18:03:38.090722Z",
     "start_time": "2024-03-09T18:03:38.078597Z"
    }
   },
   "outputs": [
    {
     "name": "stderr",
     "output_type": "stream",
     "text": [
      "C:\\ProgramData\\anaconda3\\Lib\\site-packages\\sklearn\\base.py:464: UserWarning: X does not have valid feature names, but LinearRegression was fitted with feature names\n",
      "  warnings.warn(\n"
     ]
    },
    {
     "data": {
      "text/plain": [
       "array([[11.44514473]])"
      ]
     },
     "execution_count": 44,
     "metadata": {},
     "output_type": "execute_result"
    }
   ],
   "source": [
    "# predicting\n",
    "model.predict([[93]])"
   ]
  },
  {
   "cell_type": "code",
   "execution_count": 45,
   "id": "f9d4028c",
   "metadata": {
    "ExecuteTime": {
     "end_time": "2024-03-09T18:03:47.180729Z",
     "start_time": "2024-03-09T18:03:47.174148Z"
    }
   },
   "outputs": [
    {
     "name": "stderr",
     "output_type": "stream",
     "text": [
      "C:\\ProgramData\\anaconda3\\Lib\\site-packages\\sklearn\\base.py:464: UserWarning: X does not have valid feature names, but LinearRegression was fitted with feature names\n",
      "  warnings.warn(\n"
     ]
    },
    {
     "data": {
      "text/plain": [
       "array([[9.18943865]])"
      ]
     },
     "execution_count": 45,
     "metadata": {},
     "output_type": "execute_result"
    }
   ],
   "source": [
    "# predicting\n",
    "model.predict([[50]])"
   ]
  },
  {
   "cell_type": "code",
   "execution_count": 46,
   "id": "6efd04c8",
   "metadata": {
    "ExecuteTime": {
     "end_time": "2024-03-09T18:03:49.502866Z",
     "start_time": "2024-03-09T18:03:49.496462Z"
    }
   },
   "outputs": [
    {
     "name": "stderr",
     "output_type": "stream",
     "text": [
      "C:\\ProgramData\\anaconda3\\Lib\\site-packages\\sklearn\\base.py:464: UserWarning: X does not have valid feature names, but LinearRegression was fitted with feature names\n",
      "  warnings.warn(\n"
     ]
    },
    {
     "data": {
      "text/plain": [
       "array([[7.72060679]])"
      ]
     },
     "execution_count": 46,
     "metadata": {},
     "output_type": "execute_result"
    }
   ],
   "source": [
    "# predicting\n",
    "model.predict([[22]])"
   ]
  },
  {
   "cell_type": "code",
   "execution_count": 47,
   "id": "790adca5",
   "metadata": {
    "ExecuteTime": {
     "end_time": "2024-03-09T18:03:53.866265Z",
     "start_time": "2024-03-09T18:03:53.859334Z"
    }
   },
   "outputs": [
    {
     "name": "stderr",
     "output_type": "stream",
     "text": [
      "C:\\ProgramData\\anaconda3\\Lib\\site-packages\\sklearn\\base.py:464: UserWarning: X does not have valid feature names, but LinearRegression was fitted with feature names\n",
      "  warnings.warn(\n"
     ]
    },
    {
     "data": {
      "text/plain": [
       "array([[17.0057225]])"
      ]
     },
     "execution_count": 47,
     "metadata": {},
     "output_type": "execute_result"
    }
   ],
   "source": [
    "# predicting\n",
    "model.predict([[199]])"
   ]
  },
  {
   "cell_type": "markdown",
   "id": "1b614669",
   "metadata": {},
   "source": [
    "### Conclusion\n",
    "**From what I see the linear regression model isn't suited for this dataset.**"
   ]
  }
 ],
 "metadata": {
  "kernelspec": {
   "display_name": "Python 3 (ipykernel)",
   "language": "python",
   "name": "python3"
  },
  "language_info": {
   "codemirror_mode": {
    "name": "ipython",
    "version": 3
   },
   "file_extension": ".py",
   "mimetype": "text/x-python",
   "name": "python",
   "nbconvert_exporter": "python",
   "pygments_lexer": "ipython3",
   "version": "3.11.5"
  }
 },
 "nbformat": 4,
 "nbformat_minor": 5
}
